{
 "cells": [
  {
   "cell_type": "markdown",
   "metadata": {},
   "source": [
    "# Chess.com Data Prep\n",
    "This notebook generates two necessary CSV files for the Chess.com Titled Tuesday analysis: `final_df.csv`, which contains each match, date, and outcome, and `player_stats.csv`, which contains aggregate player statistics (e.g., how many games they won in each Titled Tuesday)."
   ]
  },
  {
   "cell_type": "code",
   "execution_count": 10,
   "metadata": {},
   "outputs": [],
   "source": [
    "import os\n",
    "import pandas as pd"
   ]
  },
  {
   "cell_type": "markdown",
   "metadata": {},
   "source": [
    "### Match Outcomes"
   ]
  },
  {
   "cell_type": "code",
   "execution_count": 11,
   "metadata": {},
   "outputs": [],
   "source": [
    "folder_path = '../output/Chess.com/Titled Tuesday Pairings'\n",
    "\n",
    "df_list = []\n",
    "len_files = [] \n",
    "\n",
    "for filename in os.listdir(folder_path):\n",
    "    if filename.endswith('.csv'):\n",
    "        temp_df = pd.read_csv(os.path.join(folder_path, filename))\n",
    "\n",
    "        temp_df['filename'] = filename.split('.')[0]\n",
    "        temp_df['date'] = temp_df['filename'].str.extract(r'([a-zA-Z]+-\\d{2}-\\d{4})')\n",
    "        \n",
    "        temp_df['day'] = temp_df['date'].str.extract(r'(\\d{2})')\n",
    "        temp_df['month'] = temp_df['date'].str.extract(r'([a-zA-Z]+)')\n",
    "        temp_df['year'] = temp_df['date'].str.extract(r'(\\d{4})')\n",
    "\n",
    "        temp_df['white_result'] = temp_df['result'].str.split(' - ').str[0]\n",
    "        temp_df['black_result'] = temp_df['result'].str.split(' - ').str[1]\n",
    "        \n",
    "        temp_df['type'] = temp_df['filename'].str.extract(r'^(early|late)')\n",
    "        len_files.append(len(temp_df))\n",
    "        df_list.append(temp_df)\n",
    "\n",
    "final_df = pd.concat(df_list, ignore_index=True).drop_duplicates()"
   ]
  },
  {
   "cell_type": "code",
   "execution_count": 12,
   "metadata": {},
   "outputs": [
    {
     "data": {
      "text/plain": [
       "(242418, 15)"
      ]
     },
     "execution_count": 12,
     "metadata": {},
     "output_type": "execute_result"
    }
   ],
   "source": [
    "final_df.shape"
   ]
  },
  {
   "cell_type": "code",
   "execution_count": 13,
   "metadata": {},
   "outputs": [
    {
     "data": {
      "text/html": [
       "<div>\n",
       "<style scoped>\n",
       "    .dataframe tbody tr th:only-of-type {\n",
       "        vertical-align: middle;\n",
       "    }\n",
       "\n",
       "    .dataframe tbody tr th {\n",
       "        vertical-align: top;\n",
       "    }\n",
       "\n",
       "    .dataframe thead th {\n",
       "        text-align: right;\n",
       "    }\n",
       "</style>\n",
       "<table border=\"1\" class=\"dataframe\">\n",
       "  <thead>\n",
       "    <tr style=\"text-align: right;\">\n",
       "      <th></th>\n",
       "      <th>white_rank</th>\n",
       "      <th>white_username</th>\n",
       "      <th>white_elo</th>\n",
       "      <th>result</th>\n",
       "      <th>black_rank</th>\n",
       "      <th>black_username</th>\n",
       "      <th>black_elo</th>\n",
       "      <th>filename</th>\n",
       "      <th>date</th>\n",
       "      <th>day</th>\n",
       "      <th>month</th>\n",
       "      <th>year</th>\n",
       "      <th>white_result</th>\n",
       "      <th>black_result</th>\n",
       "      <th>type</th>\n",
       "    </tr>\n",
       "  </thead>\n",
       "  <tbody>\n",
       "    <tr>\n",
       "      <th>0</th>\n",
       "      <td>NM</td>\n",
       "      <td>chess_blitz00</td>\n",
       "      <td>2636</td>\n",
       "      <td>0 - 1</td>\n",
       "      <td>GM</td>\n",
       "      <td>Hikaru</td>\n",
       "      <td>3324</td>\n",
       "      <td>early-titled-tuesday-blitz-april-02-2024-46631...</td>\n",
       "      <td>april-02-2024</td>\n",
       "      <td>02</td>\n",
       "      <td>april</td>\n",
       "      <td>2024</td>\n",
       "      <td>0</td>\n",
       "      <td>1</td>\n",
       "      <td>early</td>\n",
       "    </tr>\n",
       "  </tbody>\n",
       "</table>\n",
       "</div>"
      ],
      "text/plain": [
       "  white_rank white_username white_elo result black_rank black_username  \\\n",
       "0         NM  chess_blitz00      2636  0 - 1         GM         Hikaru   \n",
       "\n",
       "  black_elo                                           filename           date  \\\n",
       "0      3324  early-titled-tuesday-blitz-april-02-2024-46631...  april-02-2024   \n",
       "\n",
       "  day  month  year white_result black_result   type  \n",
       "0  02  april  2024            0            1  early  "
      ]
     },
     "execution_count": 13,
     "metadata": {},
     "output_type": "execute_result"
    }
   ],
   "source": [
    "final_df.head(1)"
   ]
  },
  {
   "cell_type": "code",
   "execution_count": 14,
   "metadata": {},
   "outputs": [],
   "source": [
    "final_df.to_csv('../output/Chess.com/final_df.csv', index=False)"
   ]
  },
  {
   "cell_type": "markdown",
   "metadata": {},
   "source": [
    "### Player Outcomes"
   ]
  },
  {
   "cell_type": "code",
   "execution_count": 15,
   "metadata": {},
   "outputs": [
    {
     "data": {
      "text/plain": [
       "(4963, 10)"
      ]
     },
     "execution_count": 15,
     "metadata": {},
     "output_type": "execute_result"
    }
   ],
   "source": [
    "white_wins = final_df[final_df['white_result'] == '1'].groupby('white_username').size() # games won as white\n",
    "black_wins = final_df[final_df['black_result'] == '1'].groupby('black_username').size() # games won as black\n",
    "\n",
    "white_games = final_df.groupby('white_username').size() # games played as white\n",
    "black_games = final_df.groupby('black_username').size() # games played as black\n",
    "\n",
    "win_counts = pd.concat([white_wins, black_wins], axis=1, keys=['white_wins', 'black_wins']).fillna(0)\n",
    "win_counts['total_wins'] = win_counts['white_wins'] + win_counts['black_wins'] # total wins as both white and black\n",
    "\n",
    "total_games = pd.concat([white_games, black_games], axis=1, keys=['white_games', 'black_games']).fillna(0)\n",
    "total_games['total_games'] = total_games['white_games'] + total_games['black_games'] # total games as both white and black\n",
    "\n",
    "win_proportion_white = win_counts['white_wins'] / total_games['white_games']\n",
    "win_proportion_black = win_counts['black_wins'] / total_games['black_games']\n",
    "\n",
    "stats = pd.concat([\n",
    "    win_counts['white_wins'], win_counts['black_wins'], \n",
    "    total_games['white_games'], total_games['black_games'], \n",
    "    win_counts['total_wins'], total_games['total_games'], \n",
    "    win_proportion_white.rename('win_proportion_white'), \n",
    "    win_proportion_black.rename('win_proportion_black')\n",
    "], axis=1).fillna(0)\n",
    "\n",
    "stats['win_proportion'] = stats['total_wins'] / stats['total_games']\n",
    "\n",
    "stats = stats.reset_index().rename(columns={'index': 'username'})\n",
    "stats.shape"
   ]
  },
  {
   "cell_type": "code",
   "execution_count": 16,
   "metadata": {},
   "outputs": [
    {
     "data": {
      "text/html": [
       "<div>\n",
       "<style scoped>\n",
       "    .dataframe tbody tr th:only-of-type {\n",
       "        vertical-align: middle;\n",
       "    }\n",
       "\n",
       "    .dataframe tbody tr th {\n",
       "        vertical-align: top;\n",
       "    }\n",
       "\n",
       "    .dataframe thead th {\n",
       "        text-align: right;\n",
       "    }\n",
       "</style>\n",
       "<table border=\"1\" class=\"dataframe\">\n",
       "  <thead>\n",
       "    <tr style=\"text-align: right;\">\n",
       "      <th></th>\n",
       "      <th>username</th>\n",
       "      <th>white_wins</th>\n",
       "      <th>black_wins</th>\n",
       "      <th>white_games</th>\n",
       "      <th>black_games</th>\n",
       "      <th>total_wins</th>\n",
       "      <th>total_games</th>\n",
       "      <th>win_proportion_white</th>\n",
       "      <th>win_proportion_black</th>\n",
       "      <th>win_proportion</th>\n",
       "    </tr>\n",
       "  </thead>\n",
       "  <tbody>\n",
       "    <tr>\n",
       "      <th>0</th>\n",
       "      <td>01Roman</td>\n",
       "      <td>20.0</td>\n",
       "      <td>14.0</td>\n",
       "      <td>42.0</td>\n",
       "      <td>41.0</td>\n",
       "      <td>34.0</td>\n",
       "      <td>83.0</td>\n",
       "      <td>0.47619</td>\n",
       "      <td>0.341463</td>\n",
       "      <td>0.409639</td>\n",
       "    </tr>\n",
       "  </tbody>\n",
       "</table>\n",
       "</div>"
      ],
      "text/plain": [
       "  username  white_wins  black_wins  white_games  black_games  total_wins  \\\n",
       "0  01Roman        20.0        14.0         42.0         41.0        34.0   \n",
       "\n",
       "   total_games  win_proportion_white  win_proportion_black  win_proportion  \n",
       "0         83.0               0.47619              0.341463        0.409639  "
      ]
     },
     "execution_count": 16,
     "metadata": {},
     "output_type": "execute_result"
    }
   ],
   "source": [
    "stats.head(1)"
   ]
  },
  {
   "cell_type": "code",
   "execution_count": 17,
   "metadata": {},
   "outputs": [],
   "source": [
    "stats.to_csv('../output/Chess.com/player_stats.csv', index=False)"
   ]
  }
 ],
 "metadata": {
  "kernelspec": {
   "display_name": "Python 3",
   "language": "python",
   "name": "python3"
  },
  "language_info": {
   "codemirror_mode": {
    "name": "ipython",
    "version": 3
   },
   "file_extension": ".py",
   "mimetype": "text/x-python",
   "name": "python",
   "nbconvert_exporter": "python",
   "pygments_lexer": "ipython3",
   "version": "3.11.9"
  }
 },
 "nbformat": 4,
 "nbformat_minor": 2
}
