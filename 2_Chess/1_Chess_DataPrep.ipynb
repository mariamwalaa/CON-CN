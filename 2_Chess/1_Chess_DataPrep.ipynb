{
 "cells": [
  {
   "cell_type": "code",
   "execution_count": 11,
   "metadata": {},
   "outputs": [],
   "source": [
    "import os\n",
    "import pandas as pd"
   ]
  },
  {
   "cell_type": "markdown",
   "metadata": {},
   "source": [
    "### Combine Titled Tuesday data "
   ]
  },
  {
   "cell_type": "code",
   "execution_count": 12,
   "metadata": {},
   "outputs": [],
   "source": [
    "folder_path = '../output/Chess.com/Titled Tuesday Pairings'\n",
    "\n",
    "df_list = []\n",
    "len_files = [] \n",
    "\n",
    "for filename in os.listdir(folder_path):\n",
    "    if filename.endswith('.csv'):\n",
    "        temp_df = pd.read_csv(os.path.join(folder_path, filename))\n",
    "\n",
    "        temp_df['filename'] = filename.split('.')[0]\n",
    "        temp_df['date'] = temp_df['filename'].str.extract(r'([a-zA-Z]+-\\d{2}-\\d{4})')\n",
    "        \n",
    "        temp_df['day'] = temp_df['date'].str.extract(r'(\\d{2})')\n",
    "        temp_df['month'] = temp_df['date'].str.extract(r'([a-zA-Z]+)')\n",
    "        temp_df['year'] = temp_df['date'].str.extract(r'(\\d{4})')\n",
    "\n",
    "        temp_df['white_result'] = temp_df['result'].str.split(' - ').str[0]\n",
    "        temp_df['black_result'] = temp_df['result'].str.split(' - ').str[1]\n",
    "        \n",
    "        temp_df['type'] = temp_df['filename'].str.extract(r'^(early|late)')\n",
    "        len_files.append(len(temp_df))\n",
    "        df_list.append(temp_df)\n",
    "\n",
    "final_df = pd.concat(df_list, ignore_index=True).drop_duplicates()"
   ]
  },
  {
   "cell_type": "code",
   "execution_count": 13,
   "metadata": {},
   "outputs": [
    {
     "data": {
      "text/plain": [
       "41250"
      ]
     },
     "execution_count": 13,
     "metadata": {},
     "output_type": "execute_result"
    }
   ],
   "source": [
    "len(final_df)"
   ]
  },
  {
   "cell_type": "code",
   "execution_count": 14,
   "metadata": {},
   "outputs": [],
   "source": [
    "final_df.to_csv('../output/Chess.com/final_df.csv', index=False)"
   ]
  },
  {
   "cell_type": "markdown",
   "metadata": {},
   "source": [
    "### Summary Stats"
   ]
  },
  {
   "cell_type": "code",
   "execution_count": 15,
   "metadata": {},
   "outputs": [
    {
     "data": {
      "text/plain": [
       "2233"
      ]
     },
     "execution_count": 15,
     "metadata": {},
     "output_type": "execute_result"
    }
   ],
   "source": [
    "len(set(final_df.white_username) and set(final_df.black_username))"
   ]
  },
  {
   "cell_type": "code",
   "execution_count": 16,
   "metadata": {},
   "outputs": [],
   "source": [
    "username_rank = dict(zip(final_df.white_username, final_df.white_rank))\n",
    "username_rank.update(dict(zip(final_df.black_username, final_df.black_rank)))"
   ]
  },
  {
   "cell_type": "code",
   "execution_count": 17,
   "metadata": {},
   "outputs": [
    {
     "data": {
      "text/html": [
       "<div>\n",
       "<style scoped>\n",
       "    .dataframe tbody tr th:only-of-type {\n",
       "        vertical-align: middle;\n",
       "    }\n",
       "\n",
       "    .dataframe tbody tr th {\n",
       "        vertical-align: top;\n",
       "    }\n",
       "\n",
       "    .dataframe thead th {\n",
       "        text-align: right;\n",
       "    }\n",
       "</style>\n",
       "<table border=\"1\" class=\"dataframe\">\n",
       "  <thead>\n",
       "    <tr style=\"text-align: right;\">\n",
       "      <th></th>\n",
       "      <th>username</th>\n",
       "      <th>white_wins</th>\n",
       "      <th>black_wins</th>\n",
       "      <th>total_wins</th>\n",
       "    </tr>\n",
       "  </thead>\n",
       "  <tbody>\n",
       "    <tr>\n",
       "      <th>0</th>\n",
       "      <td>0gZPanda</td>\n",
       "      <td>32.0</td>\n",
       "      <td>27.0</td>\n",
       "      <td>59.0</td>\n",
       "    </tr>\n",
       "    <tr>\n",
       "      <th>1</th>\n",
       "      <td>13MiRacLe</td>\n",
       "      <td>1.0</td>\n",
       "      <td>0.0</td>\n",
       "      <td>1.0</td>\n",
       "    </tr>\n",
       "    <tr>\n",
       "      <th>2</th>\n",
       "      <td>1800_strength</td>\n",
       "      <td>5.0</td>\n",
       "      <td>5.0</td>\n",
       "      <td>10.0</td>\n",
       "    </tr>\n",
       "    <tr>\n",
       "      <th>3</th>\n",
       "      <td>1977Ivan</td>\n",
       "      <td>2.0</td>\n",
       "      <td>1.0</td>\n",
       "      <td>3.0</td>\n",
       "    </tr>\n",
       "    <tr>\n",
       "      <th>4</th>\n",
       "      <td>1mbl4</td>\n",
       "      <td>2.0</td>\n",
       "      <td>0.0</td>\n",
       "      <td>2.0</td>\n",
       "    </tr>\n",
       "    <tr>\n",
       "      <th>...</th>\n",
       "      <td>...</td>\n",
       "      <td>...</td>\n",
       "      <td>...</td>\n",
       "      <td>...</td>\n",
       "    </tr>\n",
       "    <tr>\n",
       "      <th>1360</th>\n",
       "      <td>x-2509604246</td>\n",
       "      <td>0.0</td>\n",
       "      <td>1.0</td>\n",
       "      <td>1.0</td>\n",
       "    </tr>\n",
       "    <tr>\n",
       "      <th>1361</th>\n",
       "      <td>x-9616587394</td>\n",
       "      <td>0.0</td>\n",
       "      <td>2.0</td>\n",
       "      <td>2.0</td>\n",
       "    </tr>\n",
       "    <tr>\n",
       "      <th>1362</th>\n",
       "      <td>ylr5000</td>\n",
       "      <td>0.0</td>\n",
       "      <td>1.0</td>\n",
       "      <td>1.0</td>\n",
       "    </tr>\n",
       "    <tr>\n",
       "      <th>1363</th>\n",
       "      <td>zajka-molotok</td>\n",
       "      <td>0.0</td>\n",
       "      <td>1.0</td>\n",
       "      <td>1.0</td>\n",
       "    </tr>\n",
       "    <tr>\n",
       "      <th>1364</th>\n",
       "      <td>zubridis</td>\n",
       "      <td>0.0</td>\n",
       "      <td>1.0</td>\n",
       "      <td>1.0</td>\n",
       "    </tr>\n",
       "  </tbody>\n",
       "</table>\n",
       "<p>1365 rows × 4 columns</p>\n",
       "</div>"
      ],
      "text/plain": [
       "           username  white_wins  black_wins  total_wins\n",
       "0          0gZPanda        32.0        27.0        59.0\n",
       "1         13MiRacLe         1.0         0.0         1.0\n",
       "2     1800_strength         5.0         5.0        10.0\n",
       "3          1977Ivan         2.0         1.0         3.0\n",
       "4             1mbl4         2.0         0.0         2.0\n",
       "...             ...         ...         ...         ...\n",
       "1360   x-2509604246         0.0         1.0         1.0\n",
       "1361   x-9616587394         0.0         2.0         2.0\n",
       "1362        ylr5000         0.0         1.0         1.0\n",
       "1363  zajka-molotok         0.0         1.0         1.0\n",
       "1364       zubridis         0.0         1.0         1.0\n",
       "\n",
       "[1365 rows x 4 columns]"
      ]
     },
     "metadata": {},
     "output_type": "display_data"
    }
   ],
   "source": [
    "white_wins = final_df[final_df['white_result'] == '1'].groupby('white_username').size()\n",
    "black_wins = final_df[final_df['black_result'] == '1'].groupby('black_username').size()\n",
    "\n",
    "win_counts = pd.concat([white_wins, black_wins], axis=1, keys=['white_wins', 'black_wins']).fillna(0)\n",
    "win_counts['total_wins'] = win_counts['white_wins'] + win_counts['black_wins']\n",
    "win_counts = win_counts.reset_index().rename(columns={'index': 'username'})\n",
    "\n",
    "display(win_counts)"
   ]
  },
  {
   "cell_type": "code",
   "execution_count": 18,
   "metadata": {},
   "outputs": [
    {
     "data": {
      "text/html": [
       "<div>\n",
       "<style scoped>\n",
       "    .dataframe tbody tr th:only-of-type {\n",
       "        vertical-align: middle;\n",
       "    }\n",
       "\n",
       "    .dataframe tbody tr th {\n",
       "        vertical-align: top;\n",
       "    }\n",
       "\n",
       "    .dataframe thead th {\n",
       "        text-align: right;\n",
       "    }\n",
       "</style>\n",
       "<table border=\"1\" class=\"dataframe\">\n",
       "  <thead>\n",
       "    <tr style=\"text-align: right;\">\n",
       "      <th></th>\n",
       "      <th>username</th>\n",
       "      <th>white_wins</th>\n",
       "      <th>black_wins</th>\n",
       "      <th>total_wins</th>\n",
       "    </tr>\n",
       "  </thead>\n",
       "  <tbody>\n",
       "    <tr>\n",
       "      <th>328</th>\n",
       "      <td>Hikaru</td>\n",
       "      <td>479.0</td>\n",
       "      <td>414.0</td>\n",
       "      <td>893.0</td>\n",
       "    </tr>\n",
       "    <tr>\n",
       "      <th>376</th>\n",
       "      <td>Jospem</td>\n",
       "      <td>451.0</td>\n",
       "      <td>396.0</td>\n",
       "      <td>847.0</td>\n",
       "    </tr>\n",
       "    <tr>\n",
       "      <th>233</th>\n",
       "      <td>FairChess_on_YouTube</td>\n",
       "      <td>444.0</td>\n",
       "      <td>373.0</td>\n",
       "      <td>817.0</td>\n",
       "    </tr>\n",
       "    <tr>\n",
       "      <th>545</th>\n",
       "      <td>Oleksandr_Bortnyk</td>\n",
       "      <td>415.0</td>\n",
       "      <td>369.0</td>\n",
       "      <td>784.0</td>\n",
       "    </tr>\n",
       "    <tr>\n",
       "      <th>1000</th>\n",
       "      <td>mishanick</td>\n",
       "      <td>423.0</td>\n",
       "      <td>343.0</td>\n",
       "      <td>766.0</td>\n",
       "    </tr>\n",
       "    <tr>\n",
       "      <th>...</th>\n",
       "      <td>...</td>\n",
       "      <td>...</td>\n",
       "      <td>...</td>\n",
       "      <td>...</td>\n",
       "    </tr>\n",
       "    <tr>\n",
       "      <th>839</th>\n",
       "      <td>chessajedrezz2020</td>\n",
       "      <td>1.0</td>\n",
       "      <td>0.0</td>\n",
       "      <td>1.0</td>\n",
       "    </tr>\n",
       "    <tr>\n",
       "      <th>838</th>\n",
       "      <td>chessS1r</td>\n",
       "      <td>1.0</td>\n",
       "      <td>0.0</td>\n",
       "      <td>1.0</td>\n",
       "    </tr>\n",
       "    <tr>\n",
       "      <th>118</th>\n",
       "      <td>Budisavljevic</td>\n",
       "      <td>1.0</td>\n",
       "      <td>0.0</td>\n",
       "      <td>1.0</td>\n",
       "    </tr>\n",
       "    <tr>\n",
       "      <th>831</th>\n",
       "      <td>caropawn10</td>\n",
       "      <td>1.0</td>\n",
       "      <td>0.0</td>\n",
       "      <td>1.0</td>\n",
       "    </tr>\n",
       "    <tr>\n",
       "      <th>1364</th>\n",
       "      <td>zubridis</td>\n",
       "      <td>0.0</td>\n",
       "      <td>1.0</td>\n",
       "      <td>1.0</td>\n",
       "    </tr>\n",
       "  </tbody>\n",
       "</table>\n",
       "<p>1365 rows × 4 columns</p>\n",
       "</div>"
      ],
      "text/plain": [
       "                  username  white_wins  black_wins  total_wins\n",
       "328                 Hikaru       479.0       414.0       893.0\n",
       "376                 Jospem       451.0       396.0       847.0\n",
       "233   FairChess_on_YouTube       444.0       373.0       817.0\n",
       "545      Oleksandr_Bortnyk       415.0       369.0       784.0\n",
       "1000             mishanick       423.0       343.0       766.0\n",
       "...                    ...         ...         ...         ...\n",
       "839      chessajedrezz2020         1.0         0.0         1.0\n",
       "838               chessS1r         1.0         0.0         1.0\n",
       "118          Budisavljevic         1.0         0.0         1.0\n",
       "831             caropawn10         1.0         0.0         1.0\n",
       "1364              zubridis         0.0         1.0         1.0\n",
       "\n",
       "[1365 rows x 4 columns]"
      ]
     },
     "execution_count": 18,
     "metadata": {},
     "output_type": "execute_result"
    }
   ],
   "source": [
    "win_counts.sort_values('total_wins', ascending=False)"
   ]
  },
  {
   "cell_type": "code",
   "execution_count": 19,
   "metadata": {},
   "outputs": [
    {
     "data": {
      "text/plain": [
       "(2564, 4)"
      ]
     },
     "execution_count": 19,
     "metadata": {},
     "output_type": "execute_result"
    }
   ],
   "source": [
    "win_counts = pd.concat([white_wins, black_wins], axis=1, keys=['white_wins', 'black_wins']).fillna(0)\n",
    "\n",
    "# Sum the wins from both white and black perspectives\n",
    "win_counts['total_wins'] = win_counts['white_wins'] + win_counts['black_wins']\n",
    "\n",
    "# Count total games played by each player as white and black\n",
    "white_games = final_df.groupby('white_username').size()\n",
    "black_games = final_df.groupby('black_username').size()\n",
    "\n",
    "# Combine the total games counts into one DataFrame\n",
    "total_games = pd.concat([white_games, black_games], axis=1, keys=['white_games', 'black_games']).fillna(0)\n",
    "\n",
    "# Sum the total games from both white and black perspectives\n",
    "total_games['total_games'] = total_games['white_games'] + total_games['black_games']\n",
    "\n",
    "# Combine win counts and total games into one DataFrame\n",
    "stats = pd.concat([win_counts['total_wins'], total_games['total_games']], axis=1)\n",
    "\n",
    "# Calculate the proportion of wins\n",
    "stats['win_proportion'] = stats['total_wins'] / stats['total_games']\n",
    "\n",
    "# Reset the index to make the usernames a column\n",
    "stats = stats.reset_index().rename(columns={'index': 'username'})\n",
    "\n",
    "stats.shape"
   ]
  },
  {
   "cell_type": "code",
   "execution_count": 20,
   "metadata": {},
   "outputs": [],
   "source": [
    "stats.to_csv('../output/Chess.com/player_stats.csv', index=False)"
   ]
  }
 ],
 "metadata": {
  "kernelspec": {
   "display_name": "Python 3",
   "language": "python",
   "name": "python3"
  },
  "language_info": {
   "codemirror_mode": {
    "name": "ipython",
    "version": 3
   },
   "file_extension": ".py",
   "mimetype": "text/x-python",
   "name": "python",
   "nbconvert_exporter": "python",
   "pygments_lexer": "ipython3",
   "version": "3.11.9"
  }
 },
 "nbformat": 4,
 "nbformat_minor": 2
}
