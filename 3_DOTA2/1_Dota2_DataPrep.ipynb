{
 "cells": [
  {
   "cell_type": "code",
   "execution_count": 1,
   "metadata": {},
   "outputs": [],
   "source": [
    "import pandas as pd"
   ]
  },
  {
   "cell_type": "markdown",
   "metadata": {},
   "source": [
    "Data"
   ]
  },
  {
   "cell_type": "code",
   "execution_count": 2,
   "metadata": {},
   "outputs": [
    {
     "name": "stdout",
     "output_type": "stream",
     "text": [
      "(916, 8)\n",
      "(920, 11)\n",
      "(922, 14)\n"
     ]
    }
   ],
   "source": [
    "df = pd.read_csv(\"../output/DOTA2/raw/main_metadata_10-24.csv\")\n",
    "teams = pd.read_csv(\"../output/DOTA2/raw/teams_10-24.csv\")\n",
    " \n",
    "# keep columns of interest\n",
    "df = df[['match_id', 'leagueid', 'radiant_win', 'radiant_score', 'radiant_team_id', 'dire_score', 'dire_team_id', 'start_date_time']]\n",
    "print(df.shape)\n",
    "\n",
    "# add team names, IDs, and tags (Radiant)\n",
    "df = df.merge(teams[['radiant.team_id', 'radiant.name', 'radiant.tag']].drop_duplicates(), left_on='radiant_team_id', right_on='radiant.team_id', how='left')\n",
    "print(df.shape)\n",
    "\n",
    "# add team names, IDs, and tags (Dire)\n",
    "df = df.merge(teams[['dire.team_id', 'dire.name', 'dire.tag']].drop_duplicates(), left_on='dire_team_id', right_on='dire.team_id', how='left')\n",
    "print(df.shape)\n",
    "\n",
    "# reorder columns\n",
    "df = df[['leagueid', 'match_id', 'radiant_team_id', 'radiant.name', 'radiant.tag', 'radiant_score', 'dire_team_id', 'dire.name', 'dire.tag', 'dire_score', 'radiant_win', 'start_date_time']]\n",
    "\n",
    "# save to csv\n",
    "df.to_csv(\"../output/DOTA2/processed/dota2_final_10-24.csv\", index=False)"
   ]
  },
  {
   "cell_type": "code",
   "execution_count": 3,
   "metadata": {},
   "outputs": [
    {
     "name": "stdout",
     "output_type": "stream",
     "text": [
      "(1951, 8)\n",
      "(1998, 11)\n",
      "(2033, 14)\n"
     ]
    }
   ],
   "source": [
    "df = pd.read_csv(\"../output/DOTA2/raw/main_metadata_08-24.csv\")\n",
    "teams = pd.read_csv(\"../output/DOTA2/raw/teams_08-24.csv\")\n",
    " \n",
    "# keep columns of interest\n",
    "df = df[['match_id', 'leagueid', 'radiant_win', 'radiant_score', 'radiant_team_id', 'dire_score', 'dire_team_id', 'start_date_time']]\n",
    "print(df.shape)\n",
    "\n",
    "# add team names, IDs, and tags (Radiant)\n",
    "df = df.merge(teams[['radiant.team_id', 'radiant.name', 'radiant.tag']].drop_duplicates(), left_on='radiant_team_id', right_on='radiant.team_id', how='left')\n",
    "print(df.shape)\n",
    "\n",
    "# add team names, IDs, and tags (Dire)\n",
    "df = df.merge(teams[['dire.team_id', 'dire.name', 'dire.tag']].drop_duplicates(), left_on='dire_team_id', right_on='dire.team_id', how='left')\n",
    "print(df.shape)\n",
    "\n",
    "# reorder columns\n",
    "df = df[['leagueid', 'match_id', 'radiant_team_id', 'radiant.name', 'radiant.tag', 'radiant_score', 'dire_team_id', 'dire.name', 'dire.tag', 'dire_score', 'radiant_win', 'start_date_time']]\n",
    "\n",
    "# save to csv\n",
    "df.to_csv(\"../output/DOTA2/processed/dota2_final_08-24.csv\", index=False)"
   ]
  },
  {
   "cell_type": "code",
   "execution_count": 4,
   "metadata": {},
   "outputs": [
    {
     "name": "stdout",
     "output_type": "stream",
     "text": [
      "(2536, 8)\n",
      "(2538, 11)\n",
      "(2538, 14)\n"
     ]
    }
   ],
   "source": [
    "df = pd.read_csv(\"../output/DOTA2/raw/main_metadata_09-24.csv\")\n",
    "teams = pd.read_csv(\"../output/DOTA2/raw/teams_09-24.csv\")\n",
    " \n",
    "# keep columns of interest\n",
    "df = df[['match_id', 'leagueid', 'radiant_win', 'radiant_score', 'radiant_team_id', 'dire_score', 'dire_team_id', 'start_date_time']]\n",
    "print(df.shape)\n",
    "\n",
    "# add team names, IDs, and tags (Radiant)\n",
    "df = df.merge(teams[['radiant.team_id', 'radiant.name', 'radiant.tag']].drop_duplicates(), left_on='radiant_team_id', right_on='radiant.team_id', how='left')\n",
    "print(df.shape)\n",
    "\n",
    "# add team names, IDs, and tags (Dire)\n",
    "df = df.merge(teams[['dire.team_id', 'dire.name', 'dire.tag']].drop_duplicates(), left_on='dire_team_id', right_on='dire.team_id', how='left')\n",
    "print(df.shape)\n",
    "\n",
    "# reorder columns\n",
    "df = df[['leagueid', 'match_id', 'radiant_team_id', 'radiant.name', 'radiant.tag', 'radiant_score', 'dire_team_id', 'dire.name', 'dire.tag', 'dire_score', 'radiant_win', 'start_date_time']]\n",
    "\n",
    "# save to csv\n",
    "df.to_csv(\"../output/DOTA2/processed/dota2_final_09-24.csv\", index=False)"
   ]
  },
  {
   "cell_type": "code",
   "execution_count": 5,
   "metadata": {},
   "outputs": [
    {
     "name": "stdout",
     "output_type": "stream",
     "text": [
      "(29810, 7)\n",
      "(30139, 10)\n",
      "(30610, 13)\n"
     ]
    }
   ],
   "source": [
    "df = pd.read_csv(\"../output/DOTA2/raw/main_metadata_2023.csv\")\n",
    "teams = pd.read_csv(\"../output/DOTA2/raw/teams_2023.csv\")\n",
    " \n",
    "# keep columns of interest\n",
    "df = df[['match_id', 'leagueid', 'radiant_win', 'radiant_score', 'radiant_team_id', 'dire_score', 'dire_team_id']]\n",
    "print(df.shape)\n",
    "\n",
    "# add team names, IDs, and tags (Radiant)\n",
    "df = df.merge(teams[['radiant.team_id', 'radiant.name', 'radiant.tag']].drop_duplicates(), left_on='radiant_team_id', right_on='radiant.team_id', how='left')\n",
    "print(df.shape)\n",
    "\n",
    "# add team names, IDs, and tags (Dire)\n",
    "df = df.merge(teams[['dire.team_id', 'dire.name', 'dire.tag']].drop_duplicates(), left_on='dire_team_id', right_on='dire.team_id', how='left')\n",
    "print(df.shape)\n",
    "\n",
    "# reorder columns\n",
    "df = df[['leagueid', 'match_id', 'radiant_team_id', 'radiant.name', 'radiant.tag', 'radiant_score', 'dire_team_id', 'dire.name', 'dire.tag', 'dire_score', 'radiant_win']]\n",
    "\n",
    "# save to csv\n",
    "df.to_csv(\"../output/DOTA2/processed/dota2_final_2023.csv\", index=False)"
   ]
  },
  {
   "cell_type": "code",
   "execution_count": 6,
   "metadata": {},
   "outputs": [
    {
     "name": "stdout",
     "output_type": "stream",
     "text": [
      "(24922, 7)\n",
      "(24922, 10)\n",
      "(24922, 13)\n"
     ]
    }
   ],
   "source": [
    "df = pd.read_csv(\"../output/DOTA2/raw/main_metadata_2022.csv\")\n",
    "teams = pd.read_csv(\"../output/DOTA2/raw/teams_2022.csv\")\n",
    " \n",
    "# keep columns of interest\n",
    "df = df[['match_id', 'leagueid', 'radiant_win', 'radiant_score', 'radiant_team_id', 'dire_score', 'dire_team_id']]\n",
    "print(df.shape)\n",
    "\n",
    "# add team names, IDs, and tags (Radiant)\n",
    "df = df.merge(teams[['radiant.team_id', 'radiant.name', 'radiant.tag']].drop_duplicates(), left_on='radiant_team_id', right_on='radiant.team_id', how='left')\n",
    "print(df.shape)\n",
    "\n",
    "# add team names, IDs, and tags (Dire)\n",
    "df = df.merge(teams[['dire.team_id', 'dire.name', 'dire.tag']].drop_duplicates(), left_on='dire_team_id', right_on='dire.team_id', how='left')\n",
    "print(df.shape)\n",
    "\n",
    "# reorder columns\n",
    "df = df[['leagueid', 'match_id', 'radiant_team_id', 'radiant.name', 'radiant.tag', 'radiant_score', 'dire_team_id', 'dire.name', 'dire.tag', 'dire_score', 'radiant_win']]\n",
    "\n",
    "# save to csv\n",
    "df.to_csv(\"../output/DOTA2/processed/dota2_final_2022.csv\", index=False)"
   ]
  }
 ],
 "metadata": {
  "kernelspec": {
   "display_name": "Python 3",
   "language": "python",
   "name": "python3"
  },
  "language_info": {
   "codemirror_mode": {
    "name": "ipython",
    "version": 3
   },
   "file_extension": ".py",
   "mimetype": "text/x-python",
   "name": "python",
   "nbconvert_exporter": "python",
   "pygments_lexer": "ipython3",
   "version": "3.11.9"
  }
 },
 "nbformat": 4,
 "nbformat_minor": 2
}
